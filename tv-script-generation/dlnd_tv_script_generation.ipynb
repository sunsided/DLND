{
 "cells": [
  {
   "cell_type": "markdown",
   "metadata": {},
   "source": [
    "# TV Script Generation\n",
    "In this project, you'll generate your own [Simpsons](https://en.wikipedia.org/wiki/The_Simpsons) TV scripts using RNNs.  You'll be using part of the [Simpsons dataset](https://www.kaggle.com/wcukierski/the-simpsons-by-the-data) of scripts from 27 seasons.  The Neural Network you'll build will generate a new TV script for a scene at [Moe's Tavern](https://simpsonswiki.com/wiki/Moe's_Tavern).\n",
    "## Get the Data\n",
    "The data is already provided for you.  You'll be using a subset of the original dataset.  It consists of only the scenes in Moe's Tavern.  This doesn't include other versions of the tavern, like \"Moe's Cavern\", \"Flaming Moe's\", \"Uncle Moe's Family Feed-Bag\", etc.."
   ]
  },
  {
   "cell_type": "code",
   "execution_count": 1,
   "metadata": {},
   "outputs": [],
   "source": [
    "\"\"\"\n",
    "DON'T MODIFY ANYTHING IN THIS CELL\n",
    "\"\"\"\n",
    "import helper\n",
    "\n",
    "data_dir = './data/simpsons/moes_tavern_lines.txt'\n",
    "text = helper.load_data(data_dir)\n",
    "# Ignore notice, since we don't use it for analysing the data\n",
    "text = text[81:]"
   ]
  },
  {
   "cell_type": "markdown",
   "metadata": {},
   "source": [
    "## Explore the Data\n",
    "Play around with `view_sentence_range` to view different parts of the data."
   ]
  },
  {
   "cell_type": "code",
   "execution_count": 2,
   "metadata": {},
   "outputs": [
    {
     "name": "stdout",
     "output_type": "stream",
     "text": [
      "Dataset Stats\n",
      "Roughly the number of unique words: 11492\n",
      "Number of scenes: 262\n",
      "Average number of sentences in each scene: 15.248091603053435\n",
      "Number of lines: 4257\n",
      "Average number of words in each line: 11.50434578341555\n",
      "\n",
      "The sentences 1000 to 1010:\n",
      "Duffman: (PARTY VOICE) Are you ready to get Duffed?\n",
      "Lenny_Leonard: Hey, it's Duffman! The guy in a costume that creates awareness of Duff!\n",
      "Duffman: Duffman wants to party down with the man who sent in ten thousand Duff labels to bring me here today. I've got a bottomless mug of new \"Duff Extra Cold\" for... (READS CARD) BARNEY GUMBEL!\n",
      "Cheerleaders: (CHEERS AND:) Chug! Chug! Chug! Chug!\n",
      "Barney_Gumble: (STRAINING) I can't! I'm the designated driver!\n",
      "Duffman: (PERFUNCTORY, BRUSQUE) Ehhh... That's swell. Duff wholeheartedly supports the designated driver program... Now, who wants to party?!\n",
      "Moe_Szyslak: Face it, Homer, the car is gone. Barney ain't never comin' back.\n",
      "Barney_Gumble: (SHAKY) All I remember about the last two months is giving a guest lecture at Villanova. (BEAT) Or maybe it was a streetcorner.\n",
      "Homer_Simpson: (QUIET ANGER) So you lost my car, eh? Well, that's just grand. I ought to punch you in the nose, but I have to pick up my kids at school.\n",
      "\n"
     ]
    }
   ],
   "source": [
    "view_sentence_range = (1000, 1010)\n",
    "\n",
    "\"\"\"\n",
    "DON'T MODIFY ANYTHING IN THIS CELL\n",
    "\"\"\"\n",
    "import numpy as np\n",
    "\n",
    "print('Dataset Stats')\n",
    "print('Roughly the number of unique words: {}'.format(len({word: None for word in text.split()})))\n",
    "scenes = text.split('\\n\\n')\n",
    "print('Number of scenes: {}'.format(len(scenes)))\n",
    "sentence_count_scene = [scene.count('\\n') for scene in scenes]\n",
    "print('Average number of sentences in each scene: {}'.format(np.average(sentence_count_scene)))\n",
    "\n",
    "sentences = [sentence for scene in scenes for sentence in scene.split('\\n')]\n",
    "print('Number of lines: {}'.format(len(sentences)))\n",
    "word_count_sentence = [len(sentence.split()) for sentence in sentences]\n",
    "print('Average number of words in each line: {}'.format(np.average(word_count_sentence)))\n",
    "\n",
    "print()\n",
    "print('The sentences {} to {}:'.format(*view_sentence_range))\n",
    "print('\\n'.join(text.split('\\n')[view_sentence_range[0]:view_sentence_range[1]]))"
   ]
  },
  {
   "cell_type": "markdown",
   "metadata": {},
   "source": [
    "## Implement Preprocessing Functions\n",
    "The first thing to do to any dataset is preprocessing.  Implement the following preprocessing functions below:\n",
    "- Lookup Table\n",
    "- Tokenize Punctuation\n",
    "\n",
    "### Lookup Table\n",
    "To create a word embedding, you first need to transform the words to ids.  In this function, create two dictionaries:\n",
    "- Dictionary to go from the words to an id, we'll call `vocab_to_int`\n",
    "- Dictionary to go from the id to word, we'll call `int_to_vocab`\n",
    "\n",
    "Return these dictionaries in the following tuple `(vocab_to_int, int_to_vocab)`"
   ]
  },
  {
   "cell_type": "code",
   "execution_count": 3,
   "metadata": {},
   "outputs": [
    {
     "name": "stdout",
     "output_type": "stream",
     "text": [
      "Tests Passed\n"
     ]
    }
   ],
   "source": [
    "import numpy as np\n",
    "import problem_unittests as tests\n",
    "\n",
    "def create_lookup_tables(text):\n",
    "    \"\"\"\n",
    "    Create lookup tables for vocabulary\n",
    "    :param text: The text of tv scripts split into words\n",
    "    :return: A tuple of dicts (vocab_to_int, int_to_vocab)\n",
    "    \"\"\"\n",
    "    \n",
    "    # NOTE: This is a nasty piece. Without it, learning will _fail_\n",
    "    #       and always produce NaN losses.\n",
    "    text = set(text)\n",
    "    \n",
    "    vocab_to_int = dict((word, i) for (i, word) in enumerate(text))\n",
    "    int_to_vocab = dict((i, word) for (word, i) in vocab_to_int.items())\n",
    "    return vocab_to_int, int_to_vocab\n",
    "\n",
    "\n",
    "\"\"\"\n",
    "DON'T MODIFY ANYTHING IN THIS CELL THAT IS BELOW THIS LINE\n",
    "\"\"\"\n",
    "tests.test_create_lookup_tables(create_lookup_tables)"
   ]
  },
  {
   "cell_type": "markdown",
   "metadata": {},
   "source": [
    "### Tokenize Punctuation\n",
    "We'll be splitting the script into a word array using spaces as delimiters.  However, punctuations like periods and exclamation marks make it hard for the neural network to distinguish between the word \"bye\" and \"bye!\".\n",
    "\n",
    "Implement the function `token_lookup` to return a dict that will be used to tokenize symbols like \"!\" into \"||Exclamation_Mark||\".  Create a dictionary for the following symbols where the symbol is the key and value is the token:\n",
    "- Period ( . )\n",
    "- Comma ( , )\n",
    "- Quotation Mark ( \" )\n",
    "- Semicolon ( ; )\n",
    "- Exclamation mark ( ! )\n",
    "- Question mark ( ? )\n",
    "- Left Parentheses ( ( )\n",
    "- Right Parentheses ( ) )\n",
    "- Dash ( -- )\n",
    "- Return ( \\n )\n",
    "\n",
    "This dictionary will be used to token the symbols and add the delimiter (space) around it.  This separates the symbols as it's own word, making it easier for the neural network to predict on the next word. Make sure you don't use a token that could be confused as a word. Instead of using the token \"dash\", try using something like \"||dash||\"."
   ]
  },
  {
   "cell_type": "code",
   "execution_count": 4,
   "metadata": {},
   "outputs": [
    {
     "name": "stdout",
     "output_type": "stream",
     "text": [
      "Tests Passed\n"
     ]
    }
   ],
   "source": [
    "def token_lookup():\n",
    "    \"\"\"\n",
    "    Generate a dict to turn punctuation into a token.\n",
    "    :return: Tokenize dictionary where the key is the punctuation and the value is the token\n",
    "    \"\"\"\n",
    "    return {\n",
    "        '.': '<period>',\n",
    "        ',': '<comma>',\n",
    "        '\"': '<quotation_mark>',\n",
    "        ';': '<semicolon>',\n",
    "        '!': '<exclamation_mark>',\n",
    "        '?': '<question_mark>',\n",
    "        '(': '<parenthesis_left>',\n",
    "        ')': '<parenthesis_right>',\n",
    "        '--': '<dash>',\n",
    "        '\\n': '<newline>'\n",
    "    }\n",
    "\n",
    "\"\"\"\n",
    "DON'T MODIFY ANYTHING IN THIS CELL THAT IS BELOW THIS LINE\n",
    "\"\"\"\n",
    "tests.test_tokenize(token_lookup)"
   ]
  },
  {
   "cell_type": "markdown",
   "metadata": {},
   "source": [
    "## Preprocess all the data and save it\n",
    "Running the code cell below will preprocess all the data and save it to file."
   ]
  },
  {
   "cell_type": "code",
   "execution_count": 5,
   "metadata": {},
   "outputs": [],
   "source": [
    "\"\"\"\n",
    "DON'T MODIFY ANYTHING IN THIS CELL\n",
    "\"\"\"\n",
    "# Preprocess Training, Validation, and Testing Data\n",
    "helper.preprocess_and_save_data(data_dir, token_lookup, create_lookup_tables)"
   ]
  },
  {
   "cell_type": "markdown",
   "metadata": {},
   "source": [
    "# Check Point\n",
    "This is your first checkpoint. If you ever decide to come back to this notebook or have to restart the notebook, you can start from here. The preprocessed data has been saved to disk."
   ]
  },
  {
   "cell_type": "code",
   "execution_count": 6,
   "metadata": {},
   "outputs": [],
   "source": [
    "\"\"\"\n",
    "DON'T MODIFY ANYTHING IN THIS CELL\n",
    "\"\"\"\n",
    "import helper\n",
    "import numpy as np\n",
    "import problem_unittests as tests\n",
    "\n",
    "int_text, vocab_to_int, int_to_vocab, token_dict = helper.load_preprocess()"
   ]
  },
  {
   "cell_type": "markdown",
   "metadata": {},
   "source": [
    "## Build the Neural Network\n",
    "You'll build the components necessary to build a RNN by implementing the following functions below:\n",
    "- get_inputs\n",
    "- get_init_cell\n",
    "- get_embed\n",
    "- build_rnn\n",
    "- build_nn\n",
    "- get_batches\n",
    "\n",
    "### Check the Version of TensorFlow and Access to GPU"
   ]
  },
  {
   "cell_type": "code",
   "execution_count": 7,
   "metadata": {},
   "outputs": [
    {
     "name": "stdout",
     "output_type": "stream",
     "text": [
      "TensorFlow Version: 1.2.1\n",
      "Default GPU Device: /gpu:0\n"
     ]
    }
   ],
   "source": [
    "\"\"\"\n",
    "DON'T MODIFY ANYTHING IN THIS CELL\n",
    "\"\"\"\n",
    "from distutils.version import LooseVersion\n",
    "import warnings\n",
    "import tensorflow as tf\n",
    "\n",
    "# Check TensorFlow Version\n",
    "assert LooseVersion(tf.__version__) >= LooseVersion('1.0'), 'Please use TensorFlow version 1.0 or newer'\n",
    "print('TensorFlow Version: {}'.format(tf.__version__))\n",
    "\n",
    "# Check for a GPU\n",
    "if not tf.test.gpu_device_name():\n",
    "    warnings.warn('No GPU found. Please use a GPU to train your neural network.')\n",
    "else:\n",
    "    print('Default GPU Device: {}'.format(tf.test.gpu_device_name()))"
   ]
  },
  {
   "cell_type": "markdown",
   "metadata": {},
   "source": [
    "### Input\n",
    "Implement the `get_inputs()` function to create TF Placeholders for the Neural Network.  It should create the following placeholders:\n",
    "- Input text placeholder named \"input\" using the [TF Placeholder](https://www.tensorflow.org/api_docs/python/tf/placeholder) `name` parameter.\n",
    "- Targets placeholder\n",
    "- Learning Rate placeholder\n",
    "\n",
    "Return the placeholders in the following tuple `(Input, Targets, LearningRate)`"
   ]
  },
  {
   "cell_type": "code",
   "execution_count": 8,
   "metadata": {},
   "outputs": [
    {
     "name": "stdout",
     "output_type": "stream",
     "text": [
      "Tests Passed\n"
     ]
    }
   ],
   "source": [
    "def get_inputs():\n",
    "    \"\"\"\n",
    "    Create TF Placeholders for input, targets, and learning rate.\n",
    "    :return: Tuple (input, targets, learning rate)\n",
    "    \"\"\"\n",
    "    # Batch size is unknown, sequence length is unknown.\n",
    "    inputs = tf.placeholder(tf.int32, shape=[None, None], name='input')\n",
    "    targets = tf.placeholder(tf.int32, shape=[None, None], name='target')\n",
    "    learning_rate = tf.placeholder(tf.float32, name='learning_rate')\n",
    "    return inputs, targets, learning_rate\n",
    "\n",
    "\n",
    "\"\"\"\n",
    "DON'T MODIFY ANYTHING IN THIS CELL THAT IS BELOW THIS LINE\n",
    "\"\"\"\n",
    "tests.test_get_inputs(get_inputs)"
   ]
  },
  {
   "cell_type": "markdown",
   "metadata": {},
   "source": [
    "### Build RNN Cell and Initialize\n",
    "Stack one or more [`BasicLSTMCells`](https://www.tensorflow.org/api_docs/python/tf/contrib/rnn/BasicLSTMCell) in a [`MultiRNNCell`](https://www.tensorflow.org/api_docs/python/tf/contrib/rnn/MultiRNNCell).\n",
    "- The Rnn size should be set using `rnn_size`\n",
    "- Initalize Cell State using the MultiRNNCell's [`zero_state()`](https://www.tensorflow.org/api_docs/python/tf/contrib/rnn/MultiRNNCell#zero_state) function\n",
    "    - Apply the name \"initial_state\" to the initial state using [`tf.identity()`](https://www.tensorflow.org/api_docs/python/tf/identity)\n",
    "\n",
    "Return the cell and initial state in the following tuple `(Cell, InitialState)`"
   ]
  },
  {
   "cell_type": "code",
   "execution_count": 9,
   "metadata": {},
   "outputs": [
    {
     "name": "stdout",
     "output_type": "stream",
     "text": [
      "Tests Passed\n"
     ]
    }
   ],
   "source": [
    "def get_init_cell(batch_size, rnn_size, num_layers=1, input_keep_prob=None):\n",
    "    \"\"\"\n",
    "    Create an RNN Cell and initialize it.\n",
    "    :param batch_size: Size of batches\n",
    "    :param rnn_size: Size of RNNs\n",
    "    :return: Tuple (cell, initialize state)\n",
    "    \"\"\"\n",
    "    \n",
    "    lstm = tf.contrib.rnn.BasicLSTMCell(rnn_size)\n",
    "    if input_keep_prob is not None:\n",
    "        lstm = tf.contrib.rnn.DropoutWrapper(lstm, output_keep_prob=keep_prob)\n",
    "    \n",
    "    cell = tf.contrib.rnn.MultiRNNCell([lstm] * num_layers)\n",
    "    \n",
    "    init_state = cell.zero_state(batch_size, tf.float32)   \n",
    "    init_state = tf.identity(init_state, name='initial_state')   \n",
    "    \n",
    "    return cell, init_state\n",
    "\n",
    "\n",
    "\"\"\"\n",
    "DON'T MODIFY ANYTHING IN THIS CELL THAT IS BELOW THIS LINE\n",
    "\"\"\"\n",
    "tests.test_get_init_cell(get_init_cell)"
   ]
  },
  {
   "cell_type": "markdown",
   "metadata": {},
   "source": [
    "### Word Embedding\n",
    "Apply embedding to `input_data` using TensorFlow.  Return the embedded sequence."
   ]
  },
  {
   "cell_type": "code",
   "execution_count": 10,
   "metadata": {},
   "outputs": [
    {
     "name": "stdout",
     "output_type": "stream",
     "text": [
      "Tests Passed\n"
     ]
    }
   ],
   "source": [
    "def get_embed(input_data, vocab_size, embed_dim):\n",
    "    \"\"\"\n",
    "    Create embedding for <input_data>.\n",
    "    :param input_data: TF placeholder for text input.\n",
    "    :param vocab_size: Number of words in vocabulary.\n",
    "    :param embed_dim: Number of embedding dimensions\n",
    "    :return: Embedded input.\n",
    "    \"\"\"\n",
    "    embeddings = tf.Variable(tf.random_uniform((vocab_size, embed_dim), \n",
    "                                               minval=-1., maxval=1., \n",
    "                                               dtype=tf.float32))\n",
    "    lookup = tf.nn.embedding_lookup(embeddings, input_data)\n",
    "    return lookup\n",
    "\n",
    "\n",
    "\"\"\"\n",
    "DON'T MODIFY ANYTHING IN THIS CELL THAT IS BELOW THIS LINE\n",
    "\"\"\"\n",
    "tests.test_get_embed(get_embed)"
   ]
  },
  {
   "cell_type": "markdown",
   "metadata": {},
   "source": [
    "### Build RNN\n",
    "You created a RNN Cell in the `get_init_cell()` function.  Time to use the cell to create a RNN.\n",
    "- Build the RNN using the [`tf.nn.dynamic_rnn()`](https://www.tensorflow.org/api_docs/python/tf/nn/dynamic_rnn)\n",
    " - Apply the name \"final_state\" to the final state using [`tf.identity()`](https://www.tensorflow.org/api_docs/python/tf/identity)\n",
    "\n",
    "Return the outputs and final_state state in the following tuple `(Outputs, FinalState)` "
   ]
  },
  {
   "cell_type": "code",
   "execution_count": 11,
   "metadata": {},
   "outputs": [
    {
     "name": "stdout",
     "output_type": "stream",
     "text": [
      "Tests Passed\n"
     ]
    }
   ],
   "source": [
    "def build_rnn(cell, inputs):\n",
    "    \"\"\"\n",
    "    Create a RNN using a RNN Cell\n",
    "    :param cell: RNN Cell\n",
    "    :param inputs: Input text data\n",
    "    :return: Tuple (Outputs, Final State)\n",
    "    \"\"\"\n",
    "    outputs, final_state = tf.nn.dynamic_rnn(cell, inputs, dtype=tf.float32)\n",
    "    final_state = tf.identity(final_state, 'final_state')\n",
    "    return outputs, final_state\n",
    "\n",
    "\n",
    "\"\"\"\n",
    "DON'T MODIFY ANYTHING IN THIS CELL THAT IS BELOW THIS LINE\n",
    "\"\"\"\n",
    "tests.test_build_rnn(build_rnn)"
   ]
  },
  {
   "cell_type": "markdown",
   "metadata": {},
   "source": [
    "### Build the Neural Network\n",
    "Apply the functions you implemented above to:\n",
    "- Apply embedding to `input_data` using your `get_embed(input_data, vocab_size, embed_dim)` function.\n",
    "- Build RNN using `cell` and your `build_rnn(cell, inputs)` function.\n",
    "- Apply a fully connected layer with a linear activation and `vocab_size` as the number of outputs.\n",
    "\n",
    "Return the logits and final state in the following tuple (Logits, FinalState) "
   ]
  },
  {
   "cell_type": "markdown",
   "metadata": {},
   "source": [
    "### NOTE: I had to change the problem_unittest.py\n",
    "\n",
    "In `test_build_nn` of `problem_unittest.py`, a batch size of `128` is specified, however the assertion expects a `None` size, so it always fails. I changed the code to define the input data shape as\n",
    "\n",
    "```python\n",
    "test_input_data_shape = [None, 5]\n",
    "```"
   ]
  },
  {
   "cell_type": "code",
   "execution_count": 12,
   "metadata": {},
   "outputs": [
    {
     "name": "stdout",
     "output_type": "stream",
     "text": [
      "Tests Passed\n"
     ]
    }
   ],
   "source": [
    "def build_nn(cell, rnn_size, input_data, vocab_size, embed_dim):\n",
    "    \"\"\"\n",
    "    Build part of the neural network\n",
    "    :param cell: RNN cell\n",
    "    :param rnn_size: Size of rnns\n",
    "    :param input_data: Input data\n",
    "    :param vocab_size: Vocabulary size\n",
    "    :param embed_dim: Number of embedding dimensions\n",
    "    :return: Tuple (Logits, FinalState)\n",
    "    \"\"\"\n",
    "    embedding = get_embed(input_data, vocab_size, rnn_size) \n",
    "    outputs, final_state = build_rnn(cell, embedding)\n",
    "    # print(outputs.get_shape(), final_state.get_shape())\n",
    "    \n",
    "    logits = tf.contrib.layers.fully_connected(outputs, vocab_size,\n",
    "                                               # weights_initializer=tf.truncated_normal_initializer(stddev=0.1), \n",
    "                                               # biases_initializer=tf.zeros_initializer(), \n",
    "                                               activation_fn=None)  # defaults to ReLU\n",
    "    return logits, final_state\n",
    "\n",
    "\n",
    "\"\"\"\n",
    "DON'T MODIFY ANYTHING IN THIS CELL THAT IS BELOW THIS LINE\n",
    "\"\"\"\n",
    "tests.test_build_nn(build_nn)"
   ]
  },
  {
   "cell_type": "markdown",
   "metadata": {},
   "source": [
    "### Batches\n",
    "Implement `get_batches` to create batches of input and targets using `int_text`.  The batches should be a Numpy array with the shape `(number of batches, 2, batch size, sequence length)`. Each batch contains two elements:\n",
    "- The first element is a single batch of **input** with the shape `[batch size, sequence length]`\n",
    "- The second element is a single batch of **targets** with the shape `[batch size, sequence length]`\n",
    "\n",
    "If you can't fill the last batch with enough data, drop the last batch.\n",
    "\n",
    "For example, `get_batches([1, 2, 3, 4, 5, 6, 7, 8, 9, 10, 11, 12, 13, 14, 15, 16, 17, 18, 19, 20], 3, 2)` would return a Numpy array of the following:\n",
    "```\n",
    "[\n",
    "  # First Batch\n",
    "  [\n",
    "    # Batch of Input\n",
    "    [[ 1  2], [ 7  8], [13 14]]\n",
    "    # Batch of targets\n",
    "    [[ 2  3], [ 8  9], [14 15]]\n",
    "  ]\n",
    "\n",
    "  # Second Batch\n",
    "  [\n",
    "    # Batch of Input\n",
    "    [[ 3  4], [ 9 10], [15 16]]\n",
    "    # Batch of targets\n",
    "    [[ 4  5], [10 11], [16 17]]\n",
    "  ]\n",
    "\n",
    "  # Third Batch\n",
    "  [\n",
    "    # Batch of Input\n",
    "    [[ 5  6], [11 12], [17 18]]\n",
    "    # Batch of targets\n",
    "    [[ 6  7], [12 13], [18  1]]\n",
    "  ]\n",
    "]\n",
    "```\n",
    "\n",
    "Notice that the last target value in the last batch is the first input value of the first batch. In this case, `1`. This is a common technique used when creating sequence batches, although it is rather unintuitive."
   ]
  },
  {
   "cell_type": "code",
   "execution_count": 13,
   "metadata": {},
   "outputs": [
    {
     "name": "stdout",
     "output_type": "stream",
     "text": [
      "Tests Passed\n"
     ]
    }
   ],
   "source": [
    "def get_batches(int_text, batch_size, seq_length):\n",
    "    \"\"\"\n",
    "    Return batches of input and target\n",
    "    :param int_text: Text with the words replaced by their ids\n",
    "    :param batch_size: The size of batch (i.e. number of examples per batch)\n",
    "    :param seq_length: The length of sequence\n",
    "    :return: Batches as a Numpy array\n",
    "    \"\"\"\n",
    "    inputs_per_batch = batch_size * seq_length\n",
    "    num_batches = len(int_text) // inputs_per_batch\n",
    "    batches = []\n",
    "\n",
    "    # Each batches Nth example is `batch_stride` steps apart.\n",
    "    # e.g. for batch_size=3, seq_length=2\n",
    "    #     Batch 0, example 0: Index 0\n",
    "    #     Batch 1, example 0: Index 2\n",
    "    #     Batch 2, example 0: Index 4\n",
    "    #     Batch 0, example 1: Index 6\n",
    "    #     Batch 1, example 1: Index 8\n",
    "    #     Batch 2, example 1: Index 10\n",
    "    batch_stride = seq_length\n",
    "    \n",
    "    # Each example (per batch) is `seq_length * num_batches` steps apart.\n",
    "    example_stride = seq_length * num_batches\n",
    "    \n",
    "    for batch in range(num_batches):\n",
    "        batch_offset = batch * batch_stride\n",
    "        inputs, targets = [], []\n",
    "        \n",
    "        for example in range(batch_size):\n",
    "            example_offset = example * example_stride\n",
    "            word_index = batch_offset + example_offset\n",
    "            \n",
    "            input_seq = int_text[word_index:word_index+seq_length]\n",
    "            target_seq = int_text[word_index+1:word_index+seq_length+1]\n",
    "            \n",
    "            inputs.append(input_seq)\n",
    "            targets.append(target_seq)\n",
    "            \n",
    "        batches.append([inputs, targets])\n",
    "    \n",
    "    batches = np.array(batches)\n",
    "    \n",
    "    # The last target of the last batch should be the first input of the first batch.\n",
    "    batches[num_batches-1, 1, batch_size-1, seq_length-1] = batches[0, 0, 0, 0]\n",
    "    \n",
    "    return batches\n",
    "\n",
    "\n",
    "\"\"\"\n",
    "DON'T MODIFY ANYTHING IN THIS CELL THAT IS BELOW THIS LINE\n",
    "\"\"\"\n",
    "tests.test_get_batches(get_batches)"
   ]
  },
  {
   "cell_type": "code",
   "execution_count": 14,
   "metadata": {},
   "outputs": [
    {
     "data": {
      "text/plain": [
       "array([[[[ 1,  2],\n",
       "         [ 7,  8],\n",
       "         [13, 14]],\n",
       "\n",
       "        [[ 2,  3],\n",
       "         [ 8,  9],\n",
       "         [14, 15]]],\n",
       "\n",
       "\n",
       "       [[[ 3,  4],\n",
       "         [ 9, 10],\n",
       "         [15, 16]],\n",
       "\n",
       "        [[ 4,  5],\n",
       "         [10, 11],\n",
       "         [16, 17]]],\n",
       "\n",
       "\n",
       "       [[[ 5,  6],\n",
       "         [11, 12],\n",
       "         [17, 18]],\n",
       "\n",
       "        [[ 6,  7],\n",
       "         [12, 13],\n",
       "         [18,  1]]]])"
      ]
     },
     "execution_count": 14,
     "metadata": {},
     "output_type": "execute_result"
    }
   ],
   "source": [
    "get_batches([1, 2, 3, 4, 5, 6, 7, 8, 9, 10, 11, 12, 13, 14, 15, 16, 17, 18, 19, 20], 3, 2)"
   ]
  },
  {
   "cell_type": "markdown",
   "metadata": {},
   "source": [
    "## Neural Network Training\n",
    "### Hyperparameters\n",
    "Tune the following parameters:\n",
    "\n",
    "- Set `num_epochs` to the number of epochs.\n",
    "- Set `batch_size` to the batch size.\n",
    "- Set `rnn_size` to the size of the RNNs.\n",
    "- Set `embed_dim` to the size of the embedding.\n",
    "- Set `seq_length` to the length of sequence.\n",
    "- Set `learning_rate` to the learning rate.\n",
    "- Set `show_every_n_batches` to the number of batches the neural network should print progress."
   ]
  },
  {
   "cell_type": "code",
   "execution_count": 61,
   "metadata": {
    "collapsed": true
   },
   "outputs": [],
   "source": [
    "# Number of Epochs\n",
    "num_epochs = 300\n",
    "# Batch Size\n",
    "batch_size = 32\n",
    "# RNN Size\n",
    "rnn_size = 128\n",
    "# Number of LSTM cells\n",
    "num_lstm_cells = 3\n",
    "# Embedding Dimension Size\n",
    "embed_dim = 512\n",
    "# Sequence Length\n",
    "seq_length = 64\n",
    "# Learning Rate\n",
    "learning_rate = 7.5e-3\n",
    "# Show stats for every n number of batches\n",
    "show_every_n_batches = 100\n",
    "\n",
    "\"\"\"\n",
    "DON'T MODIFY ANYTHING IN THIS CELL THAT IS BELOW THIS LINE\n",
    "\"\"\"\n",
    "save_dir = './save'"
   ]
  },
  {
   "cell_type": "markdown",
   "metadata": {},
   "source": [
    "### Build the Graph\n",
    "Build the graph using the neural network you implemented."
   ]
  },
  {
   "cell_type": "code",
   "execution_count": 57,
   "metadata": {},
   "outputs": [],
   "source": [
    "\"\"\"\n",
    "DON'T MODIFY ANYTHING IN THIS CELL\n",
    "\"\"\"\n",
    "from tensorflow.contrib import seq2seq\n",
    "\n",
    "train_graph = tf.Graph()\n",
    "with train_graph.as_default():\n",
    "    vocab_size = len(int_to_vocab)\n",
    "    input_text, targets, lr = get_inputs()\n",
    "    input_data_shape = tf.shape(input_text)\n",
    "    cell, initial_state = get_init_cell(input_data_shape[0], rnn_size, num_layers=num_lstm_cells)\n",
    "    logits, final_state = build_nn(cell, rnn_size, input_text, vocab_size, embed_dim)\n",
    "\n",
    "    # Probabilities for generating words\n",
    "    probs = tf.nn.softmax(logits, name='probs')\n",
    "\n",
    "    # Loss function\n",
    "    cost = seq2seq.sequence_loss(\n",
    "        logits,\n",
    "        targets,\n",
    "        tf.ones([input_data_shape[0], input_data_shape[1]]))\n",
    "\n",
    "    # Optimizer\n",
    "    optimizer = tf.train.AdamOptimizer(lr)\n",
    "\n",
    "    # Gradient Clipping\n",
    "    gradients = optimizer.compute_gradients(cost)\n",
    "    capped_gradients = [(tf.clip_by_value(grad, -1., 1.), var) for grad, var in gradients if grad is not None]\n",
    "    train_op = optimizer.apply_gradients(capped_gradients)"
   ]
  },
  {
   "cell_type": "markdown",
   "metadata": {},
   "source": [
    "## Train\n",
    "Train the neural network on the preprocessed data.  If you have a hard time getting a good loss, check the [forums](https://discussions.udacity.com/) to see if anyone is having the same problem."
   ]
  },
  {
   "cell_type": "code",
   "execution_count": 62,
   "metadata": {},
   "outputs": [
    {
     "name": "stdout",
     "output_type": "stream",
     "text": [
      "Epoch   0 Batch    0/33   train_loss = 8.821\n",
      "Epoch   3 Batch    1/33   train_loss = 6.176\n",
      "Epoch   6 Batch    2/33   train_loss = 6.176\n",
      "Epoch   9 Batch    3/33   train_loss = 6.069\n",
      "Epoch  12 Batch    4/33   train_loss = 6.187\n",
      "Epoch  15 Batch    5/33   train_loss = 6.228\n",
      "Epoch  18 Batch    6/33   train_loss = 6.105\n",
      "Epoch  21 Batch    7/33   train_loss = 6.010\n",
      "Epoch  24 Batch    8/33   train_loss = 5.848\n",
      "Epoch  27 Batch    9/33   train_loss = 5.995\n",
      "Epoch  30 Batch   10/33   train_loss = 5.242\n",
      "Epoch  33 Batch   11/33   train_loss = 4.651\n",
      "Epoch  36 Batch   12/33   train_loss = 4.409\n",
      "Epoch  39 Batch   13/33   train_loss = 4.147\n",
      "Epoch  42 Batch   14/33   train_loss = 4.125\n",
      "Epoch  45 Batch   15/33   train_loss = 3.948\n",
      "Epoch  48 Batch   16/33   train_loss = 3.516\n",
      "Epoch  51 Batch   17/33   train_loss = 3.520\n",
      "Epoch  54 Batch   18/33   train_loss = 3.359\n",
      "Epoch  57 Batch   19/33   train_loss = 3.242\n",
      "Epoch  60 Batch   20/33   train_loss = 3.107\n",
      "Epoch  63 Batch   21/33   train_loss = 2.995\n",
      "Epoch  66 Batch   22/33   train_loss = 2.877\n",
      "Epoch  69 Batch   23/33   train_loss = 2.808\n",
      "Epoch  72 Batch   24/33   train_loss = 2.637\n",
      "Epoch  75 Batch   25/33   train_loss = 2.384\n",
      "Epoch  78 Batch   26/33   train_loss = 2.456\n",
      "Epoch  81 Batch   27/33   train_loss = 2.424\n",
      "Epoch  84 Batch   28/33   train_loss = 2.186\n",
      "Epoch  87 Batch   29/33   train_loss = 2.126\n",
      "Epoch  90 Batch   30/33   train_loss = 1.976\n",
      "Epoch  93 Batch   31/33   train_loss = 2.224\n",
      "Epoch  96 Batch   32/33   train_loss = 2.081\n",
      "Epoch 100 Batch    0/33   train_loss = 1.882\n",
      "Epoch 103 Batch    1/33   train_loss = 1.862\n",
      "Epoch 106 Batch    2/33   train_loss = 1.760\n",
      "Epoch 109 Batch    3/33   train_loss = 1.813\n",
      "Epoch 112 Batch    4/33   train_loss = 1.656\n",
      "Epoch 115 Batch    5/33   train_loss = 1.585\n",
      "Epoch 118 Batch    6/33   train_loss = 1.937\n",
      "Epoch 121 Batch    7/33   train_loss = 1.555\n",
      "Epoch 124 Batch    8/33   train_loss = 1.567\n",
      "Epoch 127 Batch    9/33   train_loss = 1.409\n",
      "Epoch 130 Batch   10/33   train_loss = 1.432\n",
      "Epoch 133 Batch   11/33   train_loss = 1.438\n",
      "Epoch 136 Batch   12/33   train_loss = 1.578\n",
      "Epoch 139 Batch   13/33   train_loss = 1.393\n",
      "Epoch 142 Batch   14/33   train_loss = 1.480\n",
      "Epoch 145 Batch   15/33   train_loss = 1.310\n",
      "Epoch 148 Batch   16/33   train_loss = 1.253\n",
      "Epoch 151 Batch   17/33   train_loss = 1.173\n",
      "Epoch 154 Batch   18/33   train_loss = 1.239\n",
      "Epoch 157 Batch   19/33   train_loss = 1.273\n",
      "Epoch 160 Batch   20/33   train_loss = 1.145\n",
      "Epoch 163 Batch   21/33   train_loss = 1.264\n",
      "Epoch 166 Batch   22/33   train_loss = 1.172\n",
      "Epoch 169 Batch   23/33   train_loss = 1.250\n",
      "Epoch 172 Batch   24/33   train_loss = 1.073\n",
      "Epoch 175 Batch   25/33   train_loss = 1.111\n",
      "Epoch 178 Batch   26/33   train_loss = 1.123\n",
      "Epoch 181 Batch   27/33   train_loss = 1.133\n",
      "Epoch 184 Batch   28/33   train_loss = 1.060\n",
      "Epoch 187 Batch   29/33   train_loss = 1.023\n",
      "Epoch 190 Batch   30/33   train_loss = 0.999\n",
      "Epoch 193 Batch   31/33   train_loss = 1.341\n",
      "Epoch 196 Batch   32/33   train_loss = 1.253\n",
      "Epoch 200 Batch    0/33   train_loss = 1.173\n",
      "Epoch 203 Batch    1/33   train_loss = 1.117\n",
      "Epoch 206 Batch    2/33   train_loss = 1.086\n",
      "Epoch 209 Batch    3/33   train_loss = 1.146\n",
      "Epoch 212 Batch    4/33   train_loss = 1.095\n",
      "Epoch 215 Batch    5/33   train_loss = 0.993\n",
      "Epoch 218 Batch    6/33   train_loss = 1.212\n",
      "Epoch 221 Batch    7/33   train_loss = 1.101\n",
      "Epoch 224 Batch    8/33   train_loss = 1.159\n",
      "Epoch 227 Batch    9/33   train_loss = 0.984\n",
      "Epoch 230 Batch   10/33   train_loss = 1.011\n",
      "Epoch 233 Batch   11/33   train_loss = 0.892\n",
      "Epoch 236 Batch   12/33   train_loss = 0.915\n",
      "Epoch 239 Batch   13/33   train_loss = 0.879\n",
      "Epoch 242 Batch   14/33   train_loss = 0.933\n",
      "Epoch 245 Batch   15/33   train_loss = 0.892\n",
      "Epoch 248 Batch   16/33   train_loss = 0.853\n",
      "Epoch 251 Batch   17/33   train_loss = 0.783\n",
      "Epoch 254 Batch   18/33   train_loss = 0.845\n",
      "Epoch 257 Batch   19/33   train_loss = 0.828\n",
      "Epoch 260 Batch   20/33   train_loss = 0.733\n",
      "Epoch 263 Batch   21/33   train_loss = 0.745\n",
      "Epoch 266 Batch   22/33   train_loss = 0.705\n",
      "Epoch 269 Batch   23/33   train_loss = 0.752\n",
      "Epoch 272 Batch   24/33   train_loss = 0.662\n",
      "Epoch 275 Batch   25/33   train_loss = 0.750\n",
      "Epoch 278 Batch   26/33   train_loss = 0.806\n",
      "Epoch 281 Batch   27/33   train_loss = 0.927\n",
      "Epoch 284 Batch   28/33   train_loss = 0.912\n",
      "Epoch 287 Batch   29/33   train_loss = 0.934\n",
      "Epoch 290 Batch   30/33   train_loss = 0.869\n",
      "Epoch 293 Batch   31/33   train_loss = 0.895\n",
      "Epoch 296 Batch   32/33   train_loss = 0.801\n",
      "Epoch 299 Batch    0/33   train_loss = 0.734\n",
      "Epoch 299 Batch    1/33   train_loss = 0.733\n",
      "Epoch 299 Batch    2/33   train_loss = 0.756\n",
      "Epoch 299 Batch    3/33   train_loss = 0.827\n",
      "Epoch 299 Batch    4/33   train_loss = 0.724\n",
      "Epoch 299 Batch    5/33   train_loss = 0.664\n",
      "Epoch 299 Batch    6/33   train_loss = 0.846\n",
      "Epoch 299 Batch    7/33   train_loss = 0.713\n",
      "Epoch 299 Batch    8/33   train_loss = 0.748\n",
      "Epoch 299 Batch    9/33   train_loss = 0.692\n",
      "Epoch 299 Batch   10/33   train_loss = 0.716\n",
      "Epoch 299 Batch   11/33   train_loss = 0.772\n",
      "Epoch 299 Batch   12/33   train_loss = 0.802\n",
      "Epoch 299 Batch   13/33   train_loss = 0.771\n",
      "Epoch 299 Batch   14/33   train_loss = 0.784\n",
      "Epoch 299 Batch   15/33   train_loss = 0.765\n",
      "Epoch 299 Batch   16/33   train_loss = 0.684\n",
      "Epoch 299 Batch   17/33   train_loss = 0.631\n",
      "Epoch 299 Batch   18/33   train_loss = 0.724\n",
      "Epoch 299 Batch   19/33   train_loss = 0.728\n",
      "Epoch 299 Batch   20/33   train_loss = 0.719\n",
      "Epoch 299 Batch   21/33   train_loss = 0.736\n",
      "Epoch 299 Batch   22/33   train_loss = 0.747\n",
      "Epoch 299 Batch   23/33   train_loss = 0.779\n",
      "Epoch 299 Batch   24/33   train_loss = 0.663\n",
      "Epoch 299 Batch   25/33   train_loss = 0.672\n",
      "Epoch 299 Batch   26/33   train_loss = 0.733\n",
      "Epoch 299 Batch   27/33   train_loss = 0.751\n",
      "Epoch 299 Batch   28/33   train_loss = 0.760\n",
      "Epoch 299 Batch   29/33   train_loss = 0.742\n",
      "Epoch 299 Batch   30/33   train_loss = 0.712\n",
      "Epoch 299 Batch   31/33   train_loss = 0.833\n",
      "Epoch 299 Batch   32/33   train_loss = 0.779\n",
      "Model Trained and Saved\n"
     ]
    }
   ],
   "source": [
    "\"\"\"\n",
    "DON'T MODIFY ANYTHING IN THIS CELL\n",
    "\"\"\"\n",
    "batches = get_batches(int_text, batch_size, seq_length)\n",
    "\n",
    "with tf.Session(graph=train_graph) as sess:\n",
    "    sess.run(tf.global_variables_initializer())\n",
    "\n",
    "    for epoch_i in range(num_epochs):\n",
    "        state = sess.run(initial_state, {input_text: batches[0][0]})\n",
    "\n",
    "        for batch_i, (x, y) in enumerate(batches):            \n",
    "            feed = {\n",
    "                input_text: x,\n",
    "                targets: y,\n",
    "                initial_state: state,\n",
    "                lr: learning_rate}\n",
    "            ps, train_loss, state, _ = sess.run([probs, cost, final_state, train_op], feed)\n",
    "\n",
    "            # Show every <show_every_n_batches> batches\n",
    "            if ((epoch_i * len(batches) + batch_i) % show_every_n_batches == 0) or (epoch_i == num_epochs - 1):\n",
    "                print('Epoch {:>3} Batch {:>4}/{}   train_loss = {:.3f}'.format(\n",
    "                    epoch_i,\n",
    "                    batch_i,\n",
    "                    len(batches),\n",
    "                    train_loss))\n",
    "\n",
    "    # Save Model\n",
    "    saver = tf.train.Saver()\n",
    "    saver.save(sess, save_dir)\n",
    "    print('Model Trained and Saved')"
   ]
  },
  {
   "cell_type": "markdown",
   "metadata": {},
   "source": [
    "## Save Parameters\n",
    "Save `seq_length` and `save_dir` for generating a new TV script."
   ]
  },
  {
   "cell_type": "code",
   "execution_count": 63,
   "metadata": {},
   "outputs": [],
   "source": [
    "\"\"\"\n",
    "DON'T MODIFY ANYTHING IN THIS CELL\n",
    "\"\"\"\n",
    "# Save parameters for checkpoint\n",
    "helper.save_params((seq_length, save_dir))"
   ]
  },
  {
   "cell_type": "markdown",
   "metadata": {},
   "source": [
    "# Checkpoint"
   ]
  },
  {
   "cell_type": "code",
   "execution_count": 64,
   "metadata": {},
   "outputs": [],
   "source": [
    "\"\"\"\n",
    "DON'T MODIFY ANYTHING IN THIS CELL\n",
    "\"\"\"\n",
    "import tensorflow as tf\n",
    "import numpy as np\n",
    "import helper\n",
    "import problem_unittests as tests\n",
    "\n",
    "_, vocab_to_int, int_to_vocab, token_dict = helper.load_preprocess()\n",
    "seq_length, load_dir = helper.load_params()"
   ]
  },
  {
   "cell_type": "markdown",
   "metadata": {},
   "source": [
    "## Implement Generate Functions\n",
    "### Get Tensors\n",
    "Get tensors from `loaded_graph` using the function [`get_tensor_by_name()`](https://www.tensorflow.org/api_docs/python/tf/Graph#get_tensor_by_name).  Get the tensors using the following names:\n",
    "- \"input:0\"\n",
    "- \"initial_state:0\"\n",
    "- \"final_state:0\"\n",
    "- \"probs:0\"\n",
    "\n",
    "Return the tensors in the following tuple `(InputTensor, InitialStateTensor, FinalStateTensor, ProbsTensor)` "
   ]
  },
  {
   "cell_type": "code",
   "execution_count": 65,
   "metadata": {},
   "outputs": [
    {
     "name": "stdout",
     "output_type": "stream",
     "text": [
      "Tests Passed\n"
     ]
    }
   ],
   "source": [
    "def get_tensors(loaded_graph):\n",
    "    \"\"\"\n",
    "    Get input, initial state, final state, and probabilities tensor from <loaded_graph>\n",
    "    :param loaded_graph: TensorFlow graph loaded from file\n",
    "    :return: Tuple (InputTensor, InitialStateTensor, FinalStateTensor, ProbsTensor)\n",
    "    \"\"\"\n",
    "    inputs = loaded_graph.get_tensor_by_name('input:0')\n",
    "    initial_state = loaded_graph.get_tensor_by_name('initial_state:0')\n",
    "    final_state = loaded_graph.get_tensor_by_name('final_state:0')\n",
    "    probs = loaded_graph.get_tensor_by_name('probs:0')\n",
    "    \n",
    "    return inputs, initial_state, final_state, probs\n",
    "\n",
    "\n",
    "\"\"\"\n",
    "DON'T MODIFY ANYTHING IN THIS CELL THAT IS BELOW THIS LINE\n",
    "\"\"\"\n",
    "tests.test_get_tensors(get_tensors)"
   ]
  },
  {
   "cell_type": "markdown",
   "metadata": {},
   "source": [
    "### Choose Word\n",
    "Implement the `pick_word()` function to select the next word using `probabilities`."
   ]
  },
  {
   "cell_type": "code",
   "execution_count": 66,
   "metadata": {},
   "outputs": [
    {
     "name": "stdout",
     "output_type": "stream",
     "text": [
      "Tests Passed\n"
     ]
    }
   ],
   "source": [
    "def pick_word(probabilities, int_to_vocab):\n",
    "    \"\"\"\n",
    "    Pick the next word in the generated text\n",
    "    :param probabilities: Probabilites of the next word\n",
    "    :param int_to_vocab: Dictionary of word ids as the keys and words as the values\n",
    "    :return: String of the predicted word\n",
    "    \"\"\"\n",
    "    \n",
    "    words = list(int_to_vocab.values())\n",
    "    probs = probabilities.squeeze()\n",
    "    probs = probs / probs.sum()\n",
    "    picked = np.random.choice(words, replace=False, p=probs)\n",
    "\n",
    "    # picked = int_to_vocab[np.argmax(probabilities)]\n",
    "    return picked\n",
    "\n",
    "\n",
    "\"\"\"\n",
    "DON'T MODIFY ANYTHING IN THIS CELL THAT IS BELOW THIS LINE\n",
    "\"\"\"\n",
    "tests.test_pick_word(pick_word)"
   ]
  },
  {
   "cell_type": "markdown",
   "metadata": {},
   "source": [
    "## Generate TV Script\n",
    "This will generate the TV script for you.  Set `gen_length` to the length of TV script you want to generate."
   ]
  },
  {
   "cell_type": "code",
   "execution_count": 68,
   "metadata": {},
   "outputs": [
    {
     "name": "stdout",
     "output_type": "stream",
     "text": [
      "INFO:tensorflow:Restoring parameters from ./save\n",
      "moe_szyslak:(eyeing homer's ass) ned_flanders:(warmly)\" i'm-so-stupid, by tones(normal) or that's, play. have the man who doesn't gone. / that'll hit someone one tom crap!\n",
      "moe_szyslak: yeah, i remember cocktail car, moe!\n",
      "apu_nahasapeemapetilon:(sings) fine.\n",
      "seymour_skinner:(sings) my adeleine.\n",
      "lenny_leonard:(distraught) hey. and i need him all.\n",
      "moe_szyslak: ah, i need her. i think he's gonna say me!\n",
      "moe_szyslak: listen a minute. i get my new his mother is like a\" rebuilt on a day.\n",
      "moe_szyslak:(singing, furious change) ohmygod, remember he never beloved money to me...(ad shirt) oh it is, pal. what's me! 'topes allow!\n",
      "moe_szyslak:(defensive) you gotta hide. the new and homer? 'cause-- i'm challengin' marge?\n",
      "barney_gumble: here you your family, moe. marge?\n",
      "moe_szyslak: wait? wait... that asked in here?\n",
      "football_announcer: homer, who's to the daughter\n"
     ]
    }
   ],
   "source": [
    "gen_length = 200\n",
    "# homer_simpson, moe_szyslak, or Barney_Gumble\n",
    "prime_word = 'moe_szyslak'\n",
    "\n",
    "\"\"\"\n",
    "DON'T MODIFY ANYTHING IN THIS CELL THAT IS BELOW THIS LINE\n",
    "\"\"\"\n",
    "loaded_graph = tf.Graph()\n",
    "with tf.Session(graph=loaded_graph) as sess:\n",
    "    # Load saved model\n",
    "    loader = tf.train.import_meta_graph(load_dir + '.meta')\n",
    "    loader.restore(sess, load_dir)\n",
    "\n",
    "    # Get Tensors from loaded model\n",
    "    input_text, initial_state, final_state, probs = get_tensors(loaded_graph)\n",
    "\n",
    "    # Sentences generation setup\n",
    "    gen_sentences = [prime_word + ':']\n",
    "    prev_state = sess.run(initial_state, {input_text: np.array([[1]])})\n",
    "\n",
    "    # Generate sentences\n",
    "    for n in range(gen_length):\n",
    "        # Dynamic Input\n",
    "        dyn_input = [[vocab_to_int[word] for word in gen_sentences[-seq_length:]]]\n",
    "        dyn_seq_length = len(dyn_input[0])\n",
    "\n",
    "        # Get Prediction\n",
    "        probabilities, prev_state = sess.run(\n",
    "            [probs, final_state],\n",
    "            {input_text: dyn_input, initial_state: prev_state})\n",
    "        \n",
    "        # HACK: The following line was changed for TensorFlow 1.2+\n",
    "        #       https://discussions.udacity.com/t/generate-tv-script-error/242742/19?u=markus-131\n",
    "        # pred_word = pick_word(probabilities[dyn_seq_length-1], int_to_vocab)\n",
    "        pred_word = pick_word(probabilities[0, dyn_seq_length-1], int_to_vocab)\n",
    "\n",
    "        gen_sentences.append(pred_word)\n",
    "    \n",
    "    # Remove tokens\n",
    "    tv_script = ' '.join(gen_sentences)\n",
    "    for key, token in token_dict.items():\n",
    "        ending = ' ' if key in ['\\n', '(', '\"'] else ''\n",
    "        tv_script = tv_script.replace(' ' + token.lower(), key)\n",
    "    tv_script = tv_script.replace('\\n ', '\\n')\n",
    "    tv_script = tv_script.replace('( ', '(')\n",
    "        \n",
    "    print(tv_script)"
   ]
  },
  {
   "cell_type": "markdown",
   "metadata": {},
   "source": [
    "# The TV Script is Nonsensical\n",
    "It's ok if the TV script doesn't make any sense.  We trained on less than a megabyte of text.  In order to get good results, you'll have to use a smaller vocabulary or get more data.  Luckly there's more data!  As we mentioned in the begging of this project, this is a subset of [another dataset](https://www.kaggle.com/wcukierski/the-simpsons-by-the-data).  We didn't have you train on all the data, because that would take too long.  However, you are free to train your neural network on all the data.  After you complete the project, of course.\n",
    "# Submitting This Project\n",
    "When submitting this project, make sure to run all the cells before saving the notebook. Save the notebook file as \"dlnd_tv_script_generation.ipynb\" and save it as a HTML file under \"File\" -> \"Download as\". Include the \"helper.py\" and \"problem_unittests.py\" files in your submission."
   ]
  }
 ],
 "metadata": {
  "kernelspec": {
   "display_name": "Python [default]",
   "language": "python",
   "name": "python3"
  },
  "language_info": {
   "codemirror_mode": {
    "name": "ipython",
    "version": 3
   },
   "file_extension": ".py",
   "mimetype": "text/x-python",
   "name": "python",
   "nbconvert_exporter": "python",
   "pygments_lexer": "ipython3",
   "version": "3.6.2"
  },
  "widgets": {
   "state": {},
   "version": "1.1.2"
  }
 },
 "nbformat": 4,
 "nbformat_minor": 1
}
